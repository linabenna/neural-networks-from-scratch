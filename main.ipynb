{
 "cells": [
  {
   "cell_type": "markdown",
   "metadata": {},
   "source": [
    "# **Data Analytics Assignment 02**\n",
    "## **Neural Networks from Scratch using Numpy only**\n",
    "---"
   ]
  },
  {
   "cell_type": "code",
   "execution_count": 84,
   "metadata": {},
   "outputs": [],
   "source": [
    "import numpy as np\n",
    "import matplotlib.pyplot as plt"
   ]
  },
  {
   "cell_type": "markdown",
   "metadata": {},
   "source": [
    "## **Task 1 - Neural Networks from Scratch**\n",
    "\n",
    "Codes derived from https://www.kdnuggets.com/2019/08/numpy-neural-networks-computational-graphs.html and a few activation and loss functions were added to better training on the CIFAR-10 image dataset. Also note that not all functions from the article were used."
   ]
  },
  {
   "cell_type": "code",
   "execution_count": 98,
   "metadata": {},
   "outputs": [],
   "source": [
    "def initialize_parameters(n_in, n_out, ini_type='plain'):\n",
    "    params = dict()  # initialize empty dictionary of neural net parameters W and b\n",
    "\n",
    "    if ini_type == 'plain':\n",
    "        params['W'] = np.random.randn(n_out, n_in) *0.01  # set weights 'W' to small random gaussian\n",
    "    elif ini_type == 'xavier':\n",
    "        params['W'] = np.random.randn(n_out, n_in) / (np.sqrt(n_in))  # set variance of W to 1/n\n",
    "    elif ini_type == 'he':\n",
    "        # Good when ReLU used in hidden layers\n",
    "        params['W'] = np.random.randn(n_out, n_in) * np.sqrt(2/n_in)  # set variance of W to 2/n\n",
    "\n",
    "    params['b'] = np.zeros((n_out, 1))    # set bias 'b' to zeros\n",
    "\n",
    "    return params"
   ]
  },
  {
   "cell_type": "code",
   "execution_count": 99,
   "metadata": {},
   "outputs": [],
   "source": [
    "def compute_cross_entropy_loss(Y, A):\n",
    "    m = Y.shape[1]\n",
    "    epsilon = 1e-12\n",
    "    A = np.clip(A, epsilon, 1. - epsilon)\n",
    "    loss = -np.sum(Y * np.log(A)) / m\n",
    "    dA = A - Y\n",
    "    return loss, dA"
   ]
  },
  {
   "cell_type": "code",
   "execution_count": 100,
   "metadata": {},
   "outputs": [],
   "source": [
    "def plot_learning_curve(costs, learning_rate, total_epochs, save=False):\n",
    "    # plot the cost\n",
    "    plt.figure()\n",
    "\n",
    "    steps = int(total_epochs / len(costs))  # the steps at with costs were recorded\n",
    "    plt.ylabel('Cost')\n",
    "    plt.xlabel('Iterations ')\n",
    "    plt.title(\"Learning rate =\" + str(learning_rate))\n",
    "    plt.plot(np.squeeze(costs))\n",
    "    locs, labels = plt.xticks()\n",
    "    plt.xticks(locs[1:-1], tuple(np.array(locs[1:-1], dtype='int')*steps))  # change x labels of the plot\n",
    "    plt.xticks()\n",
    "    if save:\n",
    "        plt.savefig('Cost_Curve.png', bbox_inches='tight')\n",
    "    plt.show()"
   ]
  },
  {
   "cell_type": "markdown",
   "metadata": {},
   "source": [
    "Let's begin by defining the LinearLayer class. The class implements the following functions:\n",
    "\n",
    "- forward(A_prev) : This function allows the linear layer to take in activations from the previous layer(the input data can be seen as activations from the input layer) and performs the linear operation on them.\n",
    "- backward(upstream_grad): This function computes the derivative of Cost w.r.t weights, bias, and activations from the previous layer(dW, db&dA_prev, respectively)\n",
    "- update_params(learning_rate=0.1) : This function performs the gradient descent update on weights and bias using the derivatives computed in the backward function. The default learning rate(α) is 0.1"
   ]
  },
  {
   "cell_type": "code",
   "execution_count": 101,
   "metadata": {},
   "outputs": [],
   "source": [
    "class LinearLayer:\n",
    "    \"\"\"\n",
    "        LinearLayer Class implements all functions to be executed by a linear layer\n",
    "        in a computational graph\n",
    "    \"\"\"\n",
    "    def __init__(self, input_shape, n_out, ini_type=\"plain\"):\n",
    "        \"\"\"\n",
    "        Constructor of the LinearLayer takes the following parameters\n",
    "        \"\"\"\n",
    "        self.m = input_shape[1]  # number of examples in training data\n",
    "        # `params` store weights and bias in a python dictionary\n",
    "        self.params = initialize_parameters(input_shape[0], n_out, ini_type)  # initialize weights and bias\n",
    "        self.Z = np.zeros((self.params['W'].shape[0], input_shape[1]))  # create space for resultant Z output\n",
    "\n",
    "    def forward(self, A_prev):\n",
    "        \"\"\"\n",
    "        Function performs the forwards propagation using activations from previous layer\n",
    "        \"\"\"\n",
    "        self.A_prev = A_prev  # store the Activations/Training Data coming in\n",
    "        self.Z = np.dot(self.params['W'], self.A_prev) + self.params['b']  # compute the linear function\n",
    "\n",
    "    def backward(self, upstream_grad):\n",
    "        \"\"\"\n",
    "        Function performs the back propagation using upstream gradients\n",
    "        \"\"\"\n",
    "        # derivative of Cost w.r.t W\n",
    "        self.dW = np.dot(upstream_grad, self.A_prev.T)\n",
    "\n",
    "        # derivative of Cost w.r.t b, sum across rows\n",
    "        self.db = np.sum(upstream_grad, axis=1, keepdims=True)\n",
    "\n",
    "        # derivative of Cost w.r.t A_prev\n",
    "        self.dA_prev = np.dot(self.params['W'].T, upstream_grad)\n",
    "\n",
    "    def update_params(self, learning_rate=0.1):\n",
    "        \"\"\"\n",
    "        Function performs the gradient descent update\n",
    "        \"\"\"\n",
    "        self.params['W'] = self.params['W'] - learning_rate * self.dW  # update weights\n",
    "        self.params['b'] = self.params['b'] - learning_rate * self.db  # update bias(es)"
   ]
  },
  {
   "cell_type": "markdown",
   "metadata": {},
   "source": [
    "Next, let's define all activation function classes for building our neural network from scratch."
   ]
  },
  {
   "cell_type": "code",
   "execution_count": 102,
   "metadata": {},
   "outputs": [],
   "source": [
    "class SigmoidLayer:\n",
    "    def __init__(self, shape):\n",
    "        \"\"\"\n",
    "        Consturctor of the sigmoid/logistic activation layer takes in the following arguments\n",
    "        \"\"\"\n",
    "        self.A = np.zeros(shape)  # create space for the resultant activations\n",
    "\n",
    "    def forward(self, Z):\n",
    "        \"\"\"\n",
    "        Function performs the forwards propagation step through the activation function\n",
    "        \"\"\"\n",
    "        self.A = 1 / (1 + np.exp(-Z))  # compute activations\n",
    "\n",
    "    def backward(self, upstream_grad):\n",
    "        \"\"\"\n",
    "        Function performs the  back propagation step through the activation function\n",
    "        Local gradient => derivative of sigmoid => A*(1-A)\n",
    "        \"\"\"\n",
    "        # couple upstream gradient with local gradient, the result will be sent back to the Linear layer\n",
    "        self.dZ = upstream_grad * self.A*(1-self.A)"
   ]
  },
  {
   "cell_type": "code",
   "execution_count": 103,
   "metadata": {},
   "outputs": [],
   "source": [
    "class SoftmaxLayer:\n",
    "    def __init__(self, Z_shape):\n",
    "        \"\"\"\n",
    "        Constructor initializes storage for the input (Z), output activations (A), and the gradient (dZ).\n",
    "        \"\"\"\n",
    "        self.Z = np.zeros(Z_shape)  # placeholder for the input to the softmax\n",
    "        self.A = np.zeros(Z_shape)  # placeholder for the output of the softmax\n",
    "        self.dZ = np.zeros(Z_shape)  # placeholder for the gradient to pass backward\n",
    "\n",
    "    def forward(self, Z):\n",
    "        \"\"\"\n",
    "        Applies the softmax function to convert raw scores (Z) into probabilities.\n",
    "        \"\"\"\n",
    "        self.Z = Z  # store input\n",
    "        exp_Z = np.exp(Z - np.max(Z, axis=0, keepdims=True))  # shift values to prevent overflow\n",
    "        self.A = exp_Z / np.sum(exp_Z, axis=0, keepdims=True)  # normalize to get probabilities\n",
    "\n",
    "    def backward(self, dA):\n",
    "        \"\"\"\n",
    "        The gradient is assumed to be pre-computed from the loss (e.g., cross-entropy),\n",
    "        so we just pass it through.\n",
    "        \"\"\"\n",
    "        self.dZ = dA  # pass the upstream gradient directly"
   ]
  },
  {
   "cell_type": "code",
   "execution_count": 104,
   "metadata": {},
   "outputs": [],
   "source": [
    "class ReLULayer:\n",
    "    def __init__(self, shape):\n",
    "        \"\"\"\n",
    "        Constructor initializes storage for input (Z), output activations (A), and the local gradient (dZ).\n",
    "        \"\"\"\n",
    "        self.Z = np.zeros(shape)  # placeholder for input\n",
    "        self.A = np.zeros(shape)  # placeholder for output\n",
    "        self.dZ = np.zeros(shape)  # placeholder for gradient\n",
    "\n",
    "    def forward(self, Z):\n",
    "        \"\"\"\n",
    "        Applies the ReLU function by zeroing out negative inputs.\n",
    "        \"\"\"\n",
    "        self.Z = Z  # store input\n",
    "        self.A = np.maximum(0, Z)  # apply ReLU\n",
    "\n",
    "    def backward(self, dA):\n",
    "        \"\"\"\n",
    "        Multiplies upstream gradient with local gradient (1 if Z > 0, else 0).\n",
    "        \"\"\"\n",
    "        self.dZ = dA * (self.Z > 0).astype(float)  # compute gradient wrt Z"
   ]
  },
  {
   "cell_type": "markdown",
   "metadata": {},
   "source": [
    "## **Task 2 - Applying the model to CIFAR-10**\n",
    "\n",
    "### **1 - Load and Prepare the dataset**"
   ]
  },
  {
   "cell_type": "code",
   "execution_count": 105,
   "metadata": {},
   "outputs": [],
   "source": [
    "from keras.datasets import cifar10\n",
    "\n",
    "# 1. Loading CIFAR-10\n",
    "(X_train, y_train), (X_test, y_test) = cifar10.load_data()"
   ]
  },
  {
   "cell_type": "code",
   "execution_count": 106,
   "metadata": {},
   "outputs": [],
   "source": [
    "# 2. Normalizing Pixels\n",
    "X_train, X_test = X_train / 255.0, X_test / 255.0  # normalize\n",
    "\n",
    "# 3. Flattening the image into an array\n",
    "X_train = X_train.reshape(X_train.shape[0], -1).T  # shape: (3072, num_examples)\n",
    "X_test = X_test.reshape(X_test.shape[0], -1).T\n",
    "\n",
    "# 4. Encoding output labels\n",
    "one_hot = lambda y, num_classes: np.eye(num_classes)[y.reshape(-1)].T\n",
    "Y_train = one_hot(y_train, 10)  # shape: (10, num_examples)\n",
    "Y_test = one_hot(y_test, 10)"
   ]
  },
  {
   "cell_type": "markdown",
   "metadata": {},
   "source": [
    "### **2 - Data Visualization**"
   ]
  },
  {
   "cell_type": "code",
   "execution_count": 107,
   "metadata": {},
   "outputs": [
    {
     "data": {
      "image/png": "[encoded data removed]",
      "text/plain": [
       "<Figure size 1000x200 with 5 Axes>"
      ]
     },
     "metadata": {},
     "output_type": "display_data"
    }
   ],
   "source": [
    "# CIFAR-10 class names\n",
    "class_names = ['airplane', 'automobile', 'bird', 'cat', 'deer', \n",
    "               'dog', 'frog', 'horse', 'ship', 'truck']\n",
    "\n",
    "# Select 5 random indices\n",
    "indices = np.random.choice(X_train.shape[1], 5, replace=False)\n",
    "\n",
    "# Plot the 5 samples\n",
    "plt.figure(figsize=(10, 2))\n",
    "for i, idx in enumerate(indices):\n",
    "    img = X_train[:, idx].reshape(32, 32, 3)  # reshape to image\n",
    "    label = np.argmax(Y_train[:, idx])        # get label index\n",
    "\n",
    "    plt.subplot(1, 5, i + 1)\n",
    "    plt.imshow(img)\n",
    "    plt.title(class_names[label])\n",
    "    plt.axis('off')\n",
    "\n",
    "plt.tight_layout()\n",
    "plt.show()"
   ]
  },
  {
   "cell_type": "code",
   "execution_count": 108,
   "metadata": {},
   "outputs": [
    {
     "name": "stdout",
     "output_type": "stream",
     "text": [
      "X_train shape: (3072, 50000)\n",
      "X_train shape: (3072, 10000)\n",
      "X_train sample: [0.23137255 0.60392157 1.         ... 0.1372549  0.74117647 0.89803922]\n",
      "\n",
      "\n",
      "y_train sample: (50000, 1)\n",
      "y_test shape: (10000, 1)\n",
      "Y_train sample: [6 9 9 ... 9 1 1]\n"
     ]
    }
   ],
   "source": [
    "# Printing shapes and samples to better define the neural netowrk\n",
    "print(\"X_train shape:\", X_train.shape)\n",
    "print(\"X_train shape:\", X_test.shape)\n",
    "print(\"X_train sample:\", X_train[0])\n",
    "\n",
    "print(\"\\n\")\n",
    "\n",
    "print(\"y_train sample:\", y_train.shape)\n",
    "print(\"y_test shape:\", y_test.shape)\n",
    "print(\"Y_train sample:\", y_train[:, 0])"
   ]
  },
  {
   "cell_type": "markdown",
   "metadata": {},
   "source": [
    "### **3 - Experimentation**"
   ]
  },
  {
   "cell_type": "markdown",
   "metadata": {},
   "source": [
    "### **Model 1: 2 Hidden Layers, ReLU Activation**\n",
    "1. Layer 1: 512 neurons with He initialization and ReLU activation, capturing broad patterns from the input.\n",
    "2. Layer 2: 128 neurons, also with He initialization and ReLU activation, refining the learned representations.\n",
    "\n",
    "The final output layer is a dense layer with 10 units, using Xavier initialization, followed by a Softmax activation to produce a probability distribution over 10 classes."
   ]
  },
  {
   "cell_type": "code",
   "execution_count": 77,
   "metadata": {},
   "outputs": [],
   "source": [
    "# Architecture: [3072] → [512] → [128] → [10]\n",
    "Z1 = LinearLayer(input_shape=X_train.shape, n_out=512, ini_type='he')\n",
    "A1 = ReLULayer(Z1.Z.shape)\n",
    "\n",
    "Z2 = LinearLayer(input_shape=A1.A.shape, n_out=128, ini_type='he')\n",
    "A2 = ReLULayer(Z2.Z.shape)\n",
    "\n",
    "Z3 = LinearLayer(input_shape=A2.A.shape, n_out=10, ini_type='xavier')\n",
    "A3 = SoftmaxLayer(Z3.Z.shape)"
   ]
  },
  {
   "cell_type": "code",
   "execution_count": 81,
   "metadata": {},
   "outputs": [
    {
     "name": "stdout",
     "output_type": "stream",
     "text": [
      "Epoch 1/20, Loss: 2.3816\n",
      "Epoch 2/20, Loss: 2.3031\n",
      "Epoch 3/20, Loss: 2.3034\n",
      "Epoch 4/20, Loss: 2.3028\n",
      "Epoch 5/20, Loss: 2.3027\n",
      "Epoch 6/20, Loss: 2.3016\n",
      "Epoch 7/20, Loss: 2.3013\n",
      "Epoch 8/20, Loss: 2.3044\n",
      "Epoch 9/20, Loss: 2.3018\n",
      "Epoch 10/20, Loss: 2.3050\n",
      "Epoch 11/20, Loss: 2.3028\n",
      "Epoch 12/20, Loss: 2.3052\n",
      "Epoch 13/20, Loss: 2.3020\n",
      "Epoch 14/20, Loss: 2.3064\n",
      "Epoch 15/20, Loss: 2.3041\n",
      "Epoch 16/20, Loss: 2.3033\n",
      "Epoch 17/20, Loss: 2.3027\n",
      "Epoch 18/20, Loss: 2.3013\n",
      "Epoch 19/20, Loss: 2.3023\n",
      "Epoch 20/20, Loss: 2.3040\n"
     ]
    }
   ],
   "source": [
    "# 3. Training Setup\n",
    "epochs = 20\n",
    "lr = 0.001\n",
    "batch_size = 128\n",
    "costs = []\n",
    "\n",
    "for epoch in range(epochs):\n",
    "    permutation = np.random.permutation(X_train.shape[1])\n",
    "    X_shuffled = X_train[:, permutation]\n",
    "    Y_shuffled = Y_train[:, permutation]\n",
    "\n",
    "    for i in range(0, X_train.shape[1], batch_size):\n",
    "        x_batch = X_shuffled[:, i:i+batch_size]\n",
    "        y_batch = Y_shuffled[:, i:i+batch_size]\n",
    "\n",
    "        # Forward pass\n",
    "        Z1.forward(x_batch)\n",
    "        A1.forward(Z1.Z)\n",
    "\n",
    "        Z2.forward(A1.A)\n",
    "        A2.forward(Z2.Z)\n",
    "\n",
    "        Z3.forward(A2.A)\n",
    "        A3.forward(Z3.Z)\n",
    "\n",
    "        # Compute loss and backprop\n",
    "        cost, dA3 = compute_cross_entropy_loss(y_batch, A3.A)\n",
    "        A3.backward(dA3)\n",
    "        Z3.backward(A3.dZ)\n",
    "\n",
    "        A2.backward(Z3.dA_prev)\n",
    "        Z2.backward(A2.dZ)\n",
    "\n",
    "        A1.backward(Z2.dA_prev)\n",
    "        Z1.backward(A1.dZ)\n",
    "\n",
    "        # Update\n",
    "        Z3.update_params(lr)\n",
    "        Z2.update_params(lr)\n",
    "        Z1.update_params(lr)\n",
    "\n",
    "    print(f\"Epoch {epoch+1}/{epochs}, Loss: {cost:.4f}\")\n",
    "    costs.append(cost)"
   ]
  },
  {
   "cell_type": "code",
   "execution_count": 82,
   "metadata": {},
   "outputs": [
    {
     "data": {
      "image/png": "[encoded data removed]",
      "text/plain": [
       "<Figure size 640x480 with 1 Axes>"
      ]
     },
     "metadata": {},
     "output_type": "display_data"
    }
   ],
   "source": [
    "# Plot learning curve\n",
    "plot_learning_curve(costs=costs, learning_rate=lr, total_epochs=epochs)"
   ]
  },
  {
   "cell_type": "markdown",
   "metadata": {},
   "source": [
    "The loss stabablizes after the first epoch at 2.30 and remains somewhat the same for the next 19 epochs. This indicates that 1) increasing the number of epochs will not help the model learn better because 2) the model is too simple. We can also see this from the loss magnitude; it is significantly high which indicates very low classification accuracy. "
   ]
  },
  {
   "cell_type": "code",
   "execution_count": 83,
   "metadata": {},
   "outputs": [
    {
     "name": "stdout",
     "output_type": "stream",
     "text": [
      "Test accuracy: 10.00%\n"
     ]
    }
   ],
   "source": [
    "# Evaluation function\n",
    "def evaluate(X, Y):\n",
    "    Z1.forward(X)\n",
    "    A1.forward(Z1.Z)\n",
    "    \n",
    "    Z2.forward(A1.A)\n",
    "    A2.forward(Z2.Z)\n",
    "    \n",
    "    Z3.forward(A2.A)\n",
    "    A3.forward(Z3.Z)\n",
    "    \n",
    "    predictions = np.argmax(A3.A, axis=0)\n",
    "    labels = np.argmax(Y, axis=0)\n",
    "    return np.mean(predictions == labels)\n",
    "\n",
    "# Evaluate test accuracy\n",
    "accuracy = evaluate(X_test, Y_test)\n",
    "print(f\"Test accuracy: {accuracy * 100:.2f}%\")"
   ]
  },
  {
   "cell_type": "markdown",
   "metadata": {},
   "source": [
    "A very depressing accuracy. Despite preparing the data as required and increasing the number of epochs, the accuracy is very low. The model works better predicting at random. Hence, we must increase the complexity of the model to help it learn the data more."
   ]
  },
  {
   "cell_type": "markdown",
   "metadata": {},
   "source": [
    "### **Model 2: 3 Hidden Layers, ReLU Activation**\n",
    "1. Dense (linear) layer with 1024 units, using He initialization, followed by a ReLU activation.\n",
    "2. Dense layer with 512 units, also with He initialization, followed by a ReLU activation.\n",
    "3. Dense layer with 256 units, again using He initialization, followed by a ReLU activation.\n",
    "\n",
    "The final output layer is a dense layer with 10 units, using Xavier initialization, followed by a Softmax activation to produce a probability distribution over 10 classes."
   ]
  },
  {
   "cell_type": "code",
   "execution_count": 46,
   "metadata": {},
   "outputs": [],
   "source": [
    "# Input: 3072 → [1024 → ReLU] → [512 → ReLU] → [256 → ReLU] → [10 → Softmax]\n",
    "Z1 = LinearLayer(input_shape=(X_train.shape), n_out=1024, ini_type='he')\n",
    "A1 = ReLULayer(Z1.Z.shape)\n",
    "\n",
    "Z2 = LinearLayer(input_shape=A1.A.shape, n_out=512, ini_type='he')\n",
    "A2 = ReLULayer(Z2.Z.shape)\n",
    "\n",
    "Z3 = LinearLayer(input_shape=A2.A.shape, n_out=256, ini_type='he')\n",
    "A3 = ReLULayer(Z3.Z.shape)\n",
    "\n",
    "Z4 = LinearLayer(input_shape=A3.A.shape, n_out=10, ini_type='xavier')\n",
    "A4 = SoftmaxLayer(Z4.Z.shape)"
   ]
  },
  {
   "cell_type": "code",
   "execution_count": 47,
   "metadata": {},
   "outputs": [
    {
     "name": "stdout",
     "output_type": "stream",
     "text": [
      "Epoch 1/20, Loss: 1.7690\n",
      "Epoch 2/20, Loss: 1.8301\n",
      "Epoch 3/20, Loss: 1.5690\n",
      "Epoch 4/20, Loss: 1.2278\n",
      "Epoch 5/20, Loss: 1.7164\n",
      "Epoch 6/20, Loss: 1.3316\n",
      "Epoch 7/20, Loss: 1.1194\n",
      "Epoch 8/20, Loss: 1.5480\n",
      "Epoch 9/20, Loss: 1.2395\n",
      "Epoch 10/20, Loss: 1.7791\n",
      "Epoch 11/20, Loss: 0.9894\n",
      "Epoch 12/20, Loss: 1.2395\n",
      "Epoch 13/20, Loss: 1.4508\n",
      "Epoch 14/20, Loss: 0.9377\n",
      "Epoch 15/20, Loss: 1.1777\n",
      "Epoch 16/20, Loss: 1.3782\n",
      "Epoch 17/20, Loss: 1.2653\n",
      "Epoch 18/20, Loss: 1.3196\n",
      "Epoch 19/20, Loss: 1.0622\n",
      "Epoch 20/20, Loss: 0.5687\n"
     ]
    }
   ],
   "source": [
    "epochs = 20\n",
    "lr = 0.001\n",
    "batch_size = 64\n",
    "costs = []\n",
    "\n",
    "for epoch in range(epochs):\n",
    "    permutation = np.random.permutation(X_train.shape[1])\n",
    "    X_shuffled = X_train[:, permutation]\n",
    "    Y_shuffled = Y_train[:, permutation]\n",
    "    \n",
    "    for i in range(0, X_train.shape[1], batch_size):\n",
    "        X_batch = X_shuffled[:, i:i+batch_size]\n",
    "        Y_batch = Y_shuffled[:, i:i+batch_size]\n",
    "\n",
    "        # Forward pass\n",
    "        Z1.forward(X_batch)\n",
    "        A1.forward(Z1.Z)\n",
    "        \n",
    "        Z2.forward(A1.A)\n",
    "        A2.forward(Z2.Z)\n",
    "        \n",
    "        Z3.forward(A2.A)\n",
    "        A3.forward(Z3.Z)\n",
    "        \n",
    "        Z4.forward(A3.A)\n",
    "        A4.forward(Z4.Z)\n",
    "\n",
    "        # Loss + Backpropagation\n",
    "        cost, dA4 = compute_cross_entropy_loss(Y_batch, A4.A)\n",
    "        \n",
    "        A4.backward(dA4)\n",
    "        Z4.backward(A4.dZ)\n",
    "        \n",
    "        A3.backward(Z4.dA_prev)\n",
    "        Z3.backward(A3.dZ)\n",
    "        \n",
    "        A2.backward(Z3.dA_prev)\n",
    "        Z2.backward(A2.dZ)\n",
    "        \n",
    "        A1.backward(Z2.dA_prev)\n",
    "        Z1.backward(A1.dZ)\n",
    "        \n",
    "        # Parameter update\n",
    "        Z4.update_params(lr)\n",
    "        Z3.update_params(lr)\n",
    "        Z2.update_params(lr)\n",
    "        Z1.update_params(lr)\n",
    "    \n",
    "    print(f\"Epoch {epoch+1}/{epochs}, Loss: {cost:.4f}\")\n",
    "    costs.append(cost)\n"
   ]
  },
  {
   "cell_type": "code",
   "execution_count": 60,
   "metadata": {},
   "outputs": [
    {
     "data": {
      "image/png": "[encoded data removed]",
      "text/plain": [
       "<Figure size 640x480 with 1 Axes>"
      ]
     },
     "metadata": {},
     "output_type": "display_data"
    }
   ],
   "source": [
    "plot_learning_curve(costs=costs, learning_rate=lr, total_epochs=20)"
   ]
  },
  {
   "cell_type": "markdown",
   "metadata": {},
   "source": [
    "A notable drop in loss relative to Model 1. We can observe a decreasing trend as well. Increasing the number of epochs with this model architecture gives the model potential to converge to its lowest loss value. This architecture gives hope that increasing the model complexity is a driver to bettering the model accuracy."
   ]
  },
  {
   "cell_type": "code",
   "execution_count": 48,
   "metadata": {},
   "outputs": [
    {
     "name": "stdout",
     "output_type": "stream",
     "text": [
      "Test accuracy: 53.59%\n"
     ]
    }
   ],
   "source": [
    "def evaluate(X, Y):\n",
    "    Z1.forward(X)\n",
    "    A1.forward(Z1.Z)\n",
    "    \n",
    "    Z2.forward(A1.A)\n",
    "    A2.forward(Z2.Z)\n",
    "    \n",
    "    Z3.forward(A2.A)\n",
    "    A3.forward(Z3.Z)\n",
    "    \n",
    "    Z4.forward(A3.A)\n",
    "    A4.forward(Z4.Z)\n",
    "    \n",
    "    predictions = np.argmax(A4.A, axis=0)\n",
    "    labels = np.argmax(Y, axis=0)\n",
    "    return np.mean(predictions == labels)\n",
    "\n",
    "accuracy = evaluate(X_test, Y_test)\n",
    "print(f\"Test accuracy: {accuracy * 100:.2f}%\")\n"
   ]
  },
  {
   "cell_type": "markdown",
   "metadata": {},
   "source": [
    "A massive increase in accuracy between Model 1 and 2. A strong 43.59% increase after addding one more hidden layer to the network. This is a strong indicator that Model 1 was severly underfitting and the CIFAR-10 dataset requires a larger and more complex model to better its accuracy. We may predict that continuously increasing the model size and architecture will continuously better the model accuracy as seen in the Model 1 - Model 2 case."
   ]
  },
  {
   "cell_type": "markdown",
   "metadata": {},
   "source": [
    "### **Model 3: 4 Hidden Layers, ReLU Activation**\n",
    "1. Dense layer with 1024 neurons, initialized with He initialization, followed by a ReLU activation.\n",
    "2. The second layer has 512 neurons, again using He initialization and ReLU activation.\n",
    "3. The third layer has 256 neurons, also using He initialization and ReLU activation.\n",
    "4. The fourth layer reduces the dimensionality further with 128 neurons, initialized with He and followed by ReLU.\n",
    "\n",
    "The final output layer has 10 neurons, initialized with Xavier initialization, and applies a Softmax activation to output class probabilities."
   ]
  },
  {
   "cell_type": "code",
   "execution_count": 96,
   "metadata": {},
   "outputs": [],
   "source": [
    "# Define architecture\n",
    "# Input: 3072 → [1024 → ReLU] → [512 → ReLU] → [256 → ReLU] → [128 → ReLU] → [10 → Softmax]\n",
    "Z1 = LinearLayer(input_shape=(X_train.shape), n_out=1024, ini_type='he')\n",
    "A1 = ReLULayer(Z1.Z.shape)\n",
    "\n",
    "Z2 = LinearLayer(input_shape=A1.A.shape, n_out=512, ini_type='he')\n",
    "A2 = ReLULayer(Z2.Z.shape)\n",
    "\n",
    "Z3 = LinearLayer(input_shape=A2.A.shape, n_out=256, ini_type='he')\n",
    "A3 = ReLULayer(Z3.Z.shape)\n",
    "\n",
    "Z4 = LinearLayer(input_shape=A3.A.shape, n_out=128, ini_type='he')\n",
    "A4 = ReLULayer(Z4.Z.shape)\n",
    "\n",
    "Z5 = LinearLayer(input_shape=A4.A.shape, n_out=10, ini_type='xavier')\n",
    "A5 = SoftmaxLayer(Z5.Z.shape)"
   ]
  },
  {
   "cell_type": "code",
   "execution_count": 66,
   "metadata": {},
   "outputs": [
    {
     "name": "stdout",
     "output_type": "stream",
     "text": [
      "Epoch 1/20, Loss: 2.3783\n",
      "Epoch 2/20, Loss: 1.7555\n",
      "Epoch 3/20, Loss: 1.8052\n",
      "Epoch 4/20, Loss: 1.3538\n",
      "Epoch 5/20, Loss: 1.9803\n",
      "Epoch 6/20, Loss: 2.0172\n",
      "Epoch 7/20, Loss: 1.1926\n",
      "Epoch 8/20, Loss: 1.4689\n",
      "Epoch 9/20, Loss: 1.2863\n",
      "Epoch 10/20, Loss: 1.2594\n",
      "Epoch 11/20, Loss: 1.4823\n",
      "Epoch 12/20, Loss: 0.6456\n",
      "Epoch 13/20, Loss: 0.6773\n",
      "Epoch 14/20, Loss: 1.2651\n",
      "Epoch 15/20, Loss: 1.8390\n",
      "Epoch 16/20, Loss: 1.0550\n",
      "Epoch 17/20, Loss: 0.9355\n",
      "Epoch 18/20, Loss: 0.7322\n",
      "Epoch 19/20, Loss: 0.8487\n",
      "Epoch 20/20, Loss: 1.0545\n"
     ]
    }
   ],
   "source": [
    "# Train loop\n",
    "epochs = 20\n",
    "lr = 0.001\n",
    "batch_size = 64\n",
    "costs = []\n",
    "\n",
    "for epoch in range(epochs):\n",
    "    permutation = np.random.permutation(X_train.shape[1])\n",
    "    X_shuffled = X_train[:, permutation]\n",
    "    Y_shuffled = Y_train[:, permutation]\n",
    "    \n",
    "    for i in range(0, X_train.shape[1], batch_size):\n",
    "        X_batch = X_shuffled[:, i:i+batch_size]\n",
    "        Y_batch = Y_shuffled[:, i:i+batch_size]\n",
    "\n",
    "        # Forward pass\n",
    "        Z1.forward(X_batch)\n",
    "        A1.forward(Z1.Z)\n",
    "        \n",
    "        Z2.forward(A1.A)\n",
    "        A2.forward(Z2.Z)\n",
    "        \n",
    "        Z3.forward(A2.A)\n",
    "        A3.forward(Z3.Z)\n",
    "        \n",
    "        Z4.forward(A3.A)\n",
    "        A4.forward(Z4.Z)\n",
    "        \n",
    "        Z5.forward(A4.A)\n",
    "        A5.forward(Z5.Z)\n",
    "\n",
    "        # Loss + Backpropagation\n",
    "        cost, dA5 = compute_cross_entropy_loss(Y_batch, A5.A)\n",
    "        \n",
    "        A5.backward(dA5)\n",
    "        Z5.backward(A5.dZ)\n",
    "        \n",
    "        A4.backward(Z5.dA_prev)\n",
    "        Z4.backward(A4.dZ)\n",
    "        \n",
    "        A3.backward(Z4.dA_prev)\n",
    "        Z3.backward(A3.dZ)\n",
    "        \n",
    "        A2.backward(Z3.dA_prev)\n",
    "        Z2.backward(A2.dZ)\n",
    "        \n",
    "        A1.backward(Z2.dA_prev)\n",
    "        Z1.backward(A1.dZ)\n",
    "        \n",
    "        # Parameter update\n",
    "        Z5.update_params(lr)\n",
    "        Z4.update_params(lr)\n",
    "        Z3.update_params(lr)\n",
    "        Z2.update_params(lr)\n",
    "        Z1.update_params(lr)\n",
    "    \n",
    "    print(f\"Epoch {epoch+1}/{epochs}, Loss: {cost:.4f}\")\n",
    "    costs.append(cost)"
   ]
  },
  {
   "cell_type": "code",
   "execution_count": 67,
   "metadata": {},
   "outputs": [
    {
     "data": {
      "image/png": "[encoded data removed]",
      "text/plain": [
       "<Figure size 640x480 with 1 Axes>"
      ]
     },
     "metadata": {},
     "output_type": "display_data"
    }
   ],
   "source": [
    "# Plot learning curve\n",
    "plot_learning_curve(costs=costs, learning_rate=lr, total_epochs=epochs)"
   ]
  },
  {
   "cell_type": "markdown",
   "metadata": {},
   "source": [
    "Very similar performance with Model 2 despite an increase in hidden layers. We still observe somewhat of a decreasing trend with the loss plot, however, the spikes remain noticeable and it seems the loss will increase in the next epochs."
   ]
  },
  {
   "cell_type": "code",
   "execution_count": 68,
   "metadata": {},
   "outputs": [
    {
     "name": "stdout",
     "output_type": "stream",
     "text": [
      "Test accuracy: 52.15%\n"
     ]
    }
   ],
   "source": [
    "# Evaluation function\n",
    "def evaluate(X, Y):\n",
    "    Z1.forward(X)\n",
    "    A1.forward(Z1.Z)\n",
    "    \n",
    "    Z2.forward(A1.A)\n",
    "    A2.forward(Z2.Z)\n",
    "    \n",
    "    Z3.forward(A2.A)\n",
    "    A3.forward(Z3.Z)\n",
    "    \n",
    "    Z4.forward(A3.A)\n",
    "    A4.forward(Z4.Z)\n",
    "    \n",
    "    Z5.forward(A4.A)\n",
    "    A5.forward(Z5.Z)\n",
    "    \n",
    "    predictions = np.argmax(A5.A, axis=0)\n",
    "    labels = np.argmax(Y, axis=0)\n",
    "    return np.mean(predictions == labels)\n",
    "\n",
    "# Test accuracy\n",
    "accuracy = evaluate(X_test, Y_test)\n",
    "print(f\"Test accuracy: {accuracy * 100:.2f}%\")\n"
   ]
  },
  {
   "cell_type": "markdown",
   "metadata": {},
   "source": [
    "The accuracy has dropped despite increasing the number of hidden layers and activation neurons, which goes against the initial hypothesis that the model is performing poorly because it is too simple. Yet, we cannot reject this underfitting statement yet as the accuracy drop is small and could be overlooked if a more complex model performs better. Hence, let's try defining a larger model with 5 hidden layers to diagnose the issue better."
   ]
  },
  {
   "cell_type": "markdown",
   "metadata": {},
   "source": [
    "### **Model 4: 5 Hidden Layers, ReLU Activation**\n",
    "1. Layer 1: Dense layer with 1024 neurons, using He initialization and ReLU activation.\n",
    "2. Layer 2: Dense layer with 512 neurons, He initialization, ReLU activation.\n",
    "3. Layer 3: Dense layer with 256 neurons, He initialization, ReLU activation.\n",
    "4. Layer 4: Dense layer with 128 neurons, He initialization, ReLU activation.\n",
    "5. Layer 5: Dense layer with 64 neurons, also using He initialization and ReLU activation—this adds another level of abstraction and non-linearity.\n",
    "\n",
    "Output Layer: Dense layer with 10 neurons, Xavier initialization, followed by Softmax activation to produce class probabilities."
   ]
  },
  {
   "cell_type": "code",
   "execution_count": 69,
   "metadata": {},
   "outputs": [],
   "source": [
    "# Define architecture\n",
    "Z1 = LinearLayer(input_shape=(X_train.shape), n_out=1024, ini_type='he')\n",
    "A1 = ReLULayer(Z1.Z.shape)\n",
    "\n",
    "Z2 = LinearLayer(input_shape=A1.A.shape, n_out=512, ini_type='he')\n",
    "A2 = ReLULayer(Z2.Z.shape)\n",
    "\n",
    "Z3 = LinearLayer(input_shape=A2.A.shape, n_out=256, ini_type='he')\n",
    "A3 = ReLULayer(Z3.Z.shape)\n",
    "\n",
    "Z4 = LinearLayer(input_shape=A3.A.shape, n_out=128, ini_type='he')\n",
    "A4 = ReLULayer(Z4.Z.shape)\n",
    "\n",
    "Z5 = LinearLayer(input_shape=A4.A.shape, n_out=64, ini_type='he')     # new layer\n",
    "A5 = ReLULayer(Z5.Z.shape)                                           # new activation\n",
    "\n",
    "Z6 = LinearLayer(input_shape=A5.A.shape, n_out=10, ini_type='xavier')\n",
    "A6 = SoftmaxLayer(Z6.Z.shape)"
   ]
  },
  {
   "cell_type": "code",
   "execution_count": 70,
   "metadata": {},
   "outputs": [
    {
     "name": "stdout",
     "output_type": "stream",
     "text": [
      "Epoch 1/20, Loss: 1.7684\n",
      "Epoch 2/20, Loss: 1.8585\n",
      "Epoch 3/20, Loss: 1.3771\n",
      "Epoch 4/20, Loss: 1.9548\n",
      "Epoch 5/20, Loss: 1.7528\n",
      "Epoch 6/20, Loss: 1.6165\n",
      "Epoch 7/20, Loss: 1.2623\n",
      "Epoch 8/20, Loss: 1.4016\n",
      "Epoch 9/20, Loss: 1.5440\n",
      "Epoch 10/20, Loss: 1.6035\n",
      "Epoch 11/20, Loss: 1.9588\n",
      "Epoch 12/20, Loss: 1.1297\n",
      "Epoch 13/20, Loss: 1.5402\n",
      "Epoch 14/20, Loss: 1.7843\n",
      "Epoch 15/20, Loss: 0.9358\n",
      "Epoch 16/20, Loss: 1.4022\n",
      "Epoch 17/20, Loss: 1.5221\n",
      "Epoch 18/20, Loss: 0.9333\n",
      "Epoch 19/20, Loss: 1.3919\n",
      "Epoch 20/20, Loss: 0.8583\n"
     ]
    }
   ],
   "source": [
    "for epoch in range(epochs):\n",
    "    permutation = np.random.permutation(X_train.shape[1])\n",
    "    X_shuffled = X_train[:, permutation]\n",
    "    Y_shuffled = Y_train[:, permutation]\n",
    "    \n",
    "    for i in range(0, X_train.shape[1], batch_size):\n",
    "        X_batch = X_shuffled[:, i:i+batch_size]\n",
    "        Y_batch = Y_shuffled[:, i:i+batch_size]\n",
    "\n",
    "        # Forward pass\n",
    "        Z1.forward(X_batch)\n",
    "        A1.forward(Z1.Z)\n",
    "        \n",
    "        Z2.forward(A1.A)\n",
    "        A2.forward(Z2.Z)\n",
    "        \n",
    "        Z3.forward(A2.A)\n",
    "        A3.forward(Z3.Z)\n",
    "        \n",
    "        Z4.forward(A3.A)\n",
    "        A4.forward(Z4.Z)\n",
    "        \n",
    "        Z5.forward(A4.A)\n",
    "        A5.forward(Z5.Z)\n",
    "        \n",
    "        Z6.forward(A5.A)\n",
    "        A6.forward(Z6.Z)\n",
    "\n",
    "        # Loss + Backpropagation\n",
    "        cost, dA6 = compute_cross_entropy_loss(Y_batch, A6.A)\n",
    "        \n",
    "        A6.backward(dA6)\n",
    "        Z6.backward(A6.dZ)\n",
    "        \n",
    "        A5.backward(Z6.dA_prev)\n",
    "        Z5.backward(A5.dZ)\n",
    "        \n",
    "        A4.backward(Z5.dA_prev)\n",
    "        Z4.backward(A4.dZ)\n",
    "        \n",
    "        A3.backward(Z4.dA_prev)\n",
    "        Z3.backward(A3.dZ)\n",
    "        \n",
    "        A2.backward(Z3.dA_prev)\n",
    "        Z2.backward(A2.dZ)\n",
    "        \n",
    "        A1.backward(Z2.dA_prev)\n",
    "        Z1.backward(A1.dZ)\n",
    "        \n",
    "        # Parameter update\n",
    "        Z6.update_params(lr)\n",
    "        Z5.update_params(lr)\n",
    "        Z4.update_params(lr)\n",
    "        Z3.update_params(lr)\n",
    "        Z2.update_params(lr)\n",
    "        Z1.update_params(lr)\n",
    "    \n",
    "    print(f\"Epoch {epoch+1}/{epochs}, Loss: {cost:.4f}\")\n",
    "    costs.append(cost)"
   ]
  },
  {
   "cell_type": "code",
   "execution_count": 75,
   "metadata": {},
   "outputs": [
    {
     "data": {
      "image/png": "[encoded data removed]",
      "text/plain": [
       "<Figure size 640x480 with 1 Axes>"
      ]
     },
     "metadata": {},
     "output_type": "display_data"
    }
   ],
   "source": [
    "# Plot learning curve\n",
    "plot_learning_curve(costs=costs, learning_rate=lr, total_epochs=epochs)"
   ]
  },
  {
   "cell_type": "markdown",
   "metadata": {},
   "source": [
    "Performs somewhat closely to the previous models, this time fluctuating much more. There isn't a noticeable trend in the loss plot due to the fluctuations."
   ]
  },
  {
   "cell_type": "code",
   "execution_count": 76,
   "metadata": {},
   "outputs": [
    {
     "name": "stdout",
     "output_type": "stream",
     "text": [
      "Test accuracy: 48.77%\n"
     ]
    }
   ],
   "source": [
    "def evaluate(X, Y):\n",
    "    Z1.forward(X)\n",
    "    A1.forward(Z1.Z)\n",
    "    \n",
    "    Z2.forward(A1.A)\n",
    "    A2.forward(Z2.Z)\n",
    "    \n",
    "    Z3.forward(A2.A)\n",
    "    A3.forward(Z3.Z)\n",
    "    \n",
    "    Z4.forward(A3.A)\n",
    "    A4.forward(Z4.Z)\n",
    "    \n",
    "    Z5.forward(A4.A)\n",
    "    A5.forward(Z5.Z)\n",
    "    \n",
    "    Z6.forward(A5.A)\n",
    "    A6.forward(Z6.Z)\n",
    "    \n",
    "    predictions = np.argmax(A6.A, axis=0)\n",
    "    labels = np.argmax(Y, axis=0)\n",
    "    return np.mean(predictions == labels)\n",
    "\n",
    "# Test accuracy\n",
    "accuracy = evaluate(X_test, Y_test)\n",
    "print(f\"Test accuracy: {accuracy * 100:.2f}%\")"
   ]
  },
  {
   "cell_type": "markdown",
   "metadata": {},
   "source": [
    "Surprisingly, the accuracy dropped when increasing the complexity of the neural network. This was predicted from the loss logs observed during training, as they were not improving and rather fluctuating around despite setting a low learning rate. It seems that the hyperparamters we are flexible with are not enough to better the accuracy of the model. \n",
    "\n",
    "At first, it was predicted that the model could be underfitting to the data; that it is too simple to grasp the underlying pattern. The results between Model 1 and Model 2 provided evidence to believe so. We observed a spiking increase between the two models which suggested that adding more layers and making the model more complex was the solution. Which is no longer the case.\n",
    "\n",
    "Model 3 performed closely to Model 2, slightly lower in accuracy. This was not enough to reject the underfitting hypothesis yet. Hence, I trained Model 4 with 5 hidden layers, and verily a lower accuracy. This shows that 1) increasing the complexity of the model architecture will not help increase the accuracy of the model and 2) the reason for this is because the hyperparamters chosen alone are not strong enough to truly understand the data. So, this case of underfitting can possibly be solved by adding more hyperparamters or defining a dropout layer for instance.\n",
    "\n",
    "In fact, this drop in accuracy observed after continuously increasing the number of hidden layers suggests the model is also overfitting as now it has become too complex and memorizes the data more, hence generalizing poorly."
   ]
  },
  {
   "cell_type": "markdown",
   "metadata": {},
   "source": [
    "### **3 - Performance Evaluation**\n",
    "The accuracies found in this assignment are far from the state-of-the-art results, which reach up to 96.53% as seen in https://arxiv.org/abs/1412.6071. The idea was to understand how neural networks flow beyond liraries and equations. \n",
    "\n",
    "Moreover, it is also worth to note that state-of-the-art results rely on more advanced models that outperform basic neural networks in image classification tasks as seen in the CIFAR-10 case. Below are a few diffrentiating factors \n",
    "\n",
    "Fully connected neural networks (FCNs) require the input data to be flattened into a 1D vector, which loses spatial structure present in image data. Images, by their very nature, have spatial hierarchies where local patterns (like edges, textures, and shapes) are important for recognizing objects. \n",
    "\n",
    "CNNs, on the other hand, preserve this spatial information through convolutional layers. These layers detect patterns by applying small filters across the image, capturing local features at multiple levels, which is critical for achieving high accuracy on image datasets like CIFAR-10. \n",
    "\n",
    "Furthermore, top-performing models in the literature benefit from advanced architectures (e.g., ResNet), regularization, data augmentation, better optimizers, and sometimes pretraining on large datasets—none of which a basic neural net from scratch typically includes."
   ]
  }
 ],
 "metadata": {
  "kernelspec": {
   "display_name": "Python 3",
   "language": "python",
   "name": "python3"
  },
  "language_info": {
   "codemirror_mode": {
    "name": "ipython",
    "version": 3
   },
   "file_extension": ".py",
   "mimetype": "text/x-python",
   "name": "python",
   "nbconvert_exporter": "python",
   "pygments_lexer": "ipython3",
   "version": "3.12.6"
  }
 },
 "nbformat": 4,
 "nbformat_minor": 2
}
