{
 "cells": [
  {
   "cell_type": "markdown",
   "metadata": {},
   "source": [
    "# **Data Analytics Assignment 02**\n",
    "## **Neural Networks from Scratch using Numpy only**\n",
    "---"
   ]
  },
  {
   "cell_type": "code",
   "execution_count": 18,
   "metadata": {},
   "outputs": [],
   "source": [
    "import numpy as np  # import numpy library\n",
    "\n",
    "from util.utilities import *\n",
    "from Layers.LinearLayer import LinearLayer\n",
    "from Layers.ActivationLayer import SigmoidLayer"
   ]
  },
  {
   "cell_type": "markdown",
   "metadata": {},
   "source": [
    "### **03 - Defining an Architecture**\n",
    "#### **Model Instance**"
   ]
  },
  {
   "cell_type": "code",
   "execution_count": null,
   "metadata": {},
   "outputs": [],
   "source": [
    "# define training constants\n",
    "learning_rate = 1\n",
    "number_of_epochs = 5000\n",
    "\n",
    "np.random.seed(48) # set seed value so that the results are reproduceable\n",
    "                  # (weights will now be initailzaed to the same pseudo-random numbers, each time)\n",
    "\n",
    "\n",
    "# Our network architecture has the shape: \n",
    "#                   (input)--> [Linear->Sigmoid] -> [Linear->Sigmoid] -->(output)  \n",
    "\n",
    "#------ LAYER-1 ----- define hidden layer that takes in training data \n",
    "Z1 = LinearLayer(input_shape=X_train.shape, n_out=3, ini_type='xavier')\n",
    "A1 = SigmoidLayer(Z1.Z.shape)\n",
    "\n",
    "#------ LAYER-2 ----- define output layer that take is values from hidden layer\n",
    "Z2= LinearLayer(input_shape=A1.A.shape, n_out=1, ini_type='xavier')\n",
    "A2= SigmoidLayer(Z2.Z.shape)"
   ]
  },
  {
   "cell_type": "markdown",
   "metadata": {},
   "source": [
    "#### **Training**"
   ]
  },
  {
   "cell_type": "code",
   "execution_count": null,
   "metadata": {},
   "outputs": [],
   "source": [
    "costs = [] # initially empty list, this will store all the costs after a certian number of epochs\n",
    "\n",
    "# Start training\n",
    "for epoch in range(number_of_epochs):\n",
    "    \n",
    "    # ------------------------- forward-prop -------------------------\n",
    "    Z1.forward(X_train)\n",
    "    A1.forward(Z1.Z)\n",
    "    \n",
    "    Z2.forward(A1.A)\n",
    "    A2.forward(Z2.Z)\n",
    "    \n",
    "    # ---------------------- Compute Cost ----------------------------\n",
    "    cost, dA2 = compute_cost(Y=Y_train, Y_hat=A2.A)\n",
    "    \n",
    "    # print and store Costs every 100 iterations.\n",
    "    if (epoch % 100) == 0:\n",
    "        #print(\"Cost at epoch#\" + str(epoch) + \": \" + str(cost))\n",
    "        print(\"Cost at epoch#{}: {}\".format(epoch, cost))\n",
    "        costs.append(cost)\n",
    "    \n",
    "    # ------------------------- back-prop ----------------------------\n",
    "    A2.backward(dA2)\n",
    "    Z2.backward(A2.dZ)\n",
    "    \n",
    "    A1.backward(Z2.dA_prev)\n",
    "    Z1.backward(A1.dZ)\n",
    "    \n",
    "    # ----------------------- Update weights and bias ----------------\n",
    "    Z2.update_params(learning_rate=learning_rate)\n",
    "    Z1.update_params(learning_rate=learning_rate)"
   ]
  },
  {
   "cell_type": "markdown",
   "metadata": {},
   "source": [
    "# **Trying with XOR**"
   ]
  },
  {
   "cell_type": "code",
   "execution_count": 7,
   "metadata": {},
   "outputs": [],
   "source": [
    "%matplotlib inline "
   ]
  },
  {
   "cell_type": "code",
   "execution_count": 8,
   "metadata": {},
   "outputs": [],
   "source": [
    "# This is our XOR gate data \n",
    "\n",
    "X = np.array([\n",
    "    [0, 0],\n",
    "    [0, 1],\n",
    "    [1, 0],\n",
    "    [1, 1]\n",
    "])\n",
    "\n",
    "Y = np.array([\n",
    "    [0],\n",
    "    [1],\n",
    "    [1],\n",
    "    [0]\n",
    "])"
   ]
  },
  {
   "cell_type": "code",
   "execution_count": 9,
   "metadata": {},
   "outputs": [],
   "source": [
    "X_train = X.T\n",
    "Y_train = Y.T"
   ]
  },
  {
   "cell_type": "code",
   "execution_count": 10,
   "metadata": {},
   "outputs": [],
   "source": [
    "# define training constants\n",
    "learning_rate = 1\n",
    "number_of_epochs = 5000\n",
    "\n",
    "np.random.seed(48) # set seed value so that the results are reproduceable\n",
    "                  # (weights will now be initailzaed to the same pseudo-random numbers, each time)\n",
    "\n",
    "\n",
    "# Our network architecture has the shape: \n",
    "#                   (input)--> [Linear->Sigmoid] -> [Linear->Sigmoid] -->(output)  \n",
    "\n",
    "#------ LAYER-1 ----- define hidden layer that takes in training data \n",
    "Z1 = LinearLayer(input_shape=X_train.shape, n_out=3, ini_type='xavier')\n",
    "A1 = SigmoidLayer(Z1.Z.shape)\n",
    "\n",
    "#------ LAYER-2 ----- define output layer that take is values from hidden layer\n",
    "Z2= LinearLayer(input_shape=A1.A.shape, n_out=1, ini_type='xavier')\n",
    "A2= SigmoidLayer(Z2.Z.shape)\n",
    "\n",
    "# see what random weights and bias were selected and their shape \n",
    "# print(Z2.params)\n",
    "# print(Z2.params)"
   ]
  },
  {
   "cell_type": "code",
   "execution_count": 11,
   "metadata": {},
   "outputs": [
    {
     "name": "stdout",
     "output_type": "stream",
     "text": [
      "Cost at epoch#0: 0.12926510193084198\n",
      "Cost at epoch#100: 0.12345825692804888\n",
      "Cost at epoch#200: 0.12066966113381938\n",
      "Cost at epoch#300: 0.1166803602125806\n",
      "Cost at epoch#400: 0.11130833351272905\n",
      "Cost at epoch#500: 0.10488049601356227\n",
      "Cost at epoch#600: 0.09838889588798089\n",
      "Cost at epoch#700: 0.09243739122926581\n",
      "Cost at epoch#800: 0.08674109898244503\n",
      "Cost at epoch#900: 0.0803633800361436\n",
      "Cost at epoch#1000: 0.0718884940923021\n",
      "Cost at epoch#1100: 0.06026682287648237\n",
      "Cost at epoch#1200: 0.0466727790621477\n",
      "Cost at epoch#1300: 0.034031803169728723\n",
      "Cost at epoch#1400: 0.024420892209798026\n",
      "Cost at epoch#1500: 0.01788335037948313\n",
      "Cost at epoch#1600: 0.013556791347344173\n",
      "Cost at epoch#1700: 0.010645079603116687\n",
      "Cost at epoch#1800: 0.008621081313392114\n",
      "Cost at epoch#1900: 0.0071644476390068206\n",
      "Cost at epoch#2000: 0.0060818281219791\n",
      "Cost at epoch#2100: 0.00525404233810935\n",
      "Cost at epoch#2200: 0.00460539786880718\n",
      "Cost at epoch#2300: 0.004086292752964944\n",
      "Cost at epoch#2400: 0.0036632376282681603\n",
      "Cost at epoch#2500: 0.003312993913478364\n",
      "Cost at epoch#2600: 0.0030190324028718943\n",
      "Cost at epoch#2700: 0.0027693324145448774\n",
      "Cost at epoch#2800: 0.0025549765834592566\n",
      "Cost at epoch#2900: 0.0023692307657675396\n",
      "Cost at epoch#3000: 0.002206927429924\n",
      "Cost at epoch#3100: 0.0020640435439163484\n",
      "Cost at epoch#3200: 0.0019374059292541724\n",
      "Cost at epoch#3300: 0.0018244818957577201\n",
      "Cost at epoch#3400: 0.0017232280289235014\n",
      "Cost at epoch#3500: 0.0016319793324127336\n",
      "Cost at epoch#3600: 0.0015493668312470752\n",
      "Cost at epoch#3700: 0.0014742555487292142\n",
      "Cost at epoch#3800: 0.0014056972705266603\n",
      "Cost at epoch#3900: 0.0013428941792192027\n",
      "Cost at epoch#4000: 0.0012851705753654421\n",
      "Cost at epoch#4100: 0.0012319506808326397\n",
      "Cost at epoch#4200: 0.0011827410641545037\n",
      "Cost at epoch#4300: 0.0011371166121251193\n",
      "Cost at epoch#4400: 0.0010947092467665257\n",
      "Cost at epoch#4500: 0.0010551987856258563\n",
      "Cost at epoch#4600: 0.0010183054886511822\n",
      "Cost at epoch#4700: 0.0009837839421244108\n",
      "Cost at epoch#4800: 0.0009514180100050967\n",
      "Cost at epoch#4900: 0.0009210166430616647\n"
     ]
    }
   ],
   "source": [
    "costs = [] # initially empty list, this will store all the costs after a certian number of epochs\n",
    "\n",
    "# Start training\n",
    "for epoch in range(number_of_epochs):\n",
    "    \n",
    "    # ------------------------- forward-prop -------------------------\n",
    "    Z1.forward(X_train)\n",
    "    A1.forward(Z1.Z)\n",
    "    \n",
    "    Z2.forward(A1.A)\n",
    "    A2.forward(Z2.Z)\n",
    "    \n",
    "    # ---------------------- Compute Cost ----------------------------\n",
    "    cost, dA2 = compute_cost(Y=Y_train, Y_hat=A2.A)\n",
    "    \n",
    "    # print and store Costs every 100 iterations.\n",
    "    if (epoch % 100) == 0:\n",
    "        print(\"Cost at epoch#{}: {}\".format(epoch, cost))\n",
    "        costs.append(cost)\n",
    "    \n",
    "    # ------------------------- back-prop ----------------------------\n",
    "    A2.backward(dA2)\n",
    "    Z2.backward(A2.dZ)\n",
    "    \n",
    "    A1.backward(Z2.dA_prev)\n",
    "    Z1.backward(A1.dZ)\n",
    "    \n",
    "    # ----------------------- Update weights and bias ----------------\n",
    "    Z2.update_params(learning_rate=learning_rate)\n",
    "    Z1.update_params(learning_rate=learning_rate)\n",
    "\n",
    "# See what the final weights and bias are training    \n",
    "# print(Z2.params)\n",
    "# print(Z2.params)"
   ]
  },
  {
   "cell_type": "code",
   "execution_count": 13,
   "metadata": {},
   "outputs": [],
   "source": [
    "def predict(X, Y, Zs, As):\n",
    "    \"\"\"\n",
    "    helper function to predict on data using a neural net model layers\n",
    "\n",
    "    Args:\n",
    "        X: Data in shape (features x num_of_examples)\n",
    "        Y: labels in shape ( label x num_of_examples)\n",
    "        Zs: All linear layers in form of a list e.g [Z1,Z2,...,Zn]\n",
    "        As: All Activation layers in form of a list e.g [A1,A2,...,An]\n",
    "    Returns::\n",
    "        p: predicted labels\n",
    "        probas : raw probabilities\n",
    "        accuracy: the number of correct predictions from total predictions\n",
    "    \"\"\"\n",
    "    m = X.shape[1]\n",
    "    n = len(Zs)  # number of layers in the neural network\n",
    "    p = np.zeros((1, m))\n",
    "\n",
    "    # Forward propagation\n",
    "    Zs[0].forward(X)\n",
    "    As[0].forward(Zs[0].Z)\n",
    "    for i in range(1, n):\n",
    "        Zs[i].forward(As[i-1].A)\n",
    "        As[i].forward(Zs[i].Z)\n",
    "    probas = As[n-1].A\n",
    "\n",
    "    # convert probas to 0/1 predictions\n",
    "    for i in range(0, probas.shape[1]):\n",
    "        if probas[0, i] > 0.5:  # 0.5 is threshold\n",
    "            p[0, i] = 1\n",
    "        else:\n",
    "            p[0, i] = 0\n",
    "\n",
    "    # print results\n",
    "    # print (\"predictions: \" + str(p))\n",
    "    # print (\"true labels: \" + str(y))\n",
    "    accuracy = np.sum((p == Y) / m)\n",
    "\n",
    "    return p, probas, accuracy*100"
   ]
  },
  {
   "cell_type": "code",
   "execution_count": 14,
   "metadata": {},
   "outputs": [
    {
     "name": "stdout",
     "output_type": "stream",
     "text": [
      "The predicted outputs:\n",
      " [[0. 1. 1. 0.]]\n",
      "The accuracy of the model is: 100.0%\n"
     ]
    }
   ],
   "source": [
    "# see the ouptput predictions\n",
    "predicted_outputs, _, accuracy = predict(X=X_train, Y=Y_train, Zs=[Z1, Z2], As=[A1, A2])\n",
    "\n",
    "print(\"The predicted outputs:\\n {}\".format(predicted_outputs))\n",
    "print(\"The accuracy of the model is: {}%\".format(accuracy))"
   ]
  },
  {
   "cell_type": "code",
   "execution_count": 16,
   "metadata": {},
   "outputs": [],
   "source": [
    "import matplotlib.pyplot as plt\n",
    "def plot_learning_curve(costs, learning_rate, total_epochs, save=False):\n",
    "    \"\"\"\n",
    "    This function plots the Learning Curve of the model\n",
    "\n",
    "    Args:\n",
    "        costs: list of costs recorded during training\n",
    "        learning_rate: the learning rate during training\n",
    "        total_epochs: number of epochs the model was trained for\n",
    "        save: bool flag to save the image or not. Default False\n",
    "    \"\"\"\n",
    "    # plot the cost\n",
    "    plt.figure()\n",
    "\n",
    "    steps = int(total_epochs / len(costs))  # the steps at with costs were recorded\n",
    "    plt.ylabel('Cost')\n",
    "    plt.xlabel('Iterations ')\n",
    "    plt.title(\"Learning rate =\" + str(learning_rate))\n",
    "    plt.plot(np.squeeze(costs))\n",
    "    locs, labels = plt.xticks()\n",
    "    plt.xticks(locs[1:-1], tuple(np.array(locs[1:-1], dtype='int')*steps))  # change x labels of the plot\n",
    "    plt.xticks()\n",
    "    if save:\n",
    "        plt.savefig('Cost_Curve.png', bbox_inches='tight')\n",
    "    plt.show()"
   ]
  },
  {
   "cell_type": "code",
   "execution_count": 17,
   "metadata": {},
   "outputs": [
    {
     "data": {
      "image/png": "[encoded data removed]",
      "text/plain": [
       "<Figure size 640x480 with 1 Axes>"
      ]
     },
     "metadata": {},
     "output_type": "display_data"
    }
   ],
   "source": [
    "plot_learning_curve(costs=costs, learning_rate=learning_rate, total_epochs=number_of_epochs)"
   ]
  }
 ],
 "metadata": {
  "kernelspec": {
   "display_name": "Python 3",
   "language": "python",
   "name": "python3"
  },
  "language_info": {
   "codemirror_mode": {
    "name": "ipython",
    "version": 3
   },
   "file_extension": ".py",
   "mimetype": "text/x-python",
   "name": "python",
   "nbconvert_exporter": "python",
   "pygments_lexer": "ipython3",
   "version": "3.12.6"
  }
 },
 "nbformat": 4,
 "nbformat_minor": 2
}
